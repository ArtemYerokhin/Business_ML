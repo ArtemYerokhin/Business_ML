{
 "cells": [
  {
   "cell_type": "markdown",
   "id": "00feeab0-872b-4c36-b1f7-22134930e808",
   "metadata": {
    "tags": []
   },
   "source": [
    "# Выбор локации для скважины\n",
    "## Описание проекта\n",
    "Нужно решить, где бурить новую скважину.\n",
    "\n",
    "Предоставлены пробы нефти в трёх регионах: в каждом 10 000 месторождений, где измерили качество нефти и объём её запасов. Нужно построить модель машинного обучения, которая поможет определить регион, где добыча принесёт наибольшую прибыль. \n",
    "\n",
    "\n",
    "Шаги для выбора локации:\n",
    "\n",
    "- В избранном регионе ищут месторождения, для каждого определяют значения признаков;\n",
    "- Строят модель и оценивают объём запасов;\n",
    "- Выбирают месторождения с самым высокими оценками значений. Количество месторождений зависит от бюджета компании и стоимости разработки одной скважины;\n",
    "- Прибыль равна суммарной прибыли отобранных месторождений.\n",
    "## Цель проекта\n",
    "Определить самый выгодный регион для бурения скважин.\n",
    "## Условия задачи:\n",
    "- Для обучения модели подходит только линейная регрессия (остальные — недостаточно предсказуемые).\n",
    "- При разведке региона исследуют 500 точек, из которых с помощью машинного обучения выбирают 200 лучших для разработки.\n",
    "- Бюджет на разработку скважин в регионе — 10 млрд рублей.\n",
    "- При нынешних ценах один баррель сырья приносит 450 рублей дохода. Доход с каждой единицы продукта составляет 450 тыс. рублей, поскольку объём указан в тысячах баррелей.\n",
    "- После оценки рисков нужно оставить лишь те регионы, в которых вероятность убытков меньше 2.5%. Среди них выбирают регион с наибольшей средней прибылью.\n",
    "\n",
    "## Описание данных\n",
    "Представлены данные геологоразведки трёх регионов.\n",
    "\n",
    "`id` — уникальный идентификатор скважины;\n",
    "\n",
    "`f0`, `f1`, `f2` — три признака точек (неважно, что они означают, но сами признаки значимы);\n",
    "\n",
    "`product` — объём запасов в скважине (тыс. баррелей).\n",
    "## Последовательность шагов проекта\n",
    "1. Загрузка и исследование датасетов.\n",
    "2. Предобработка данных.\n",
    "3. Построение и проверка моделей.\n",
    "4. Расчет прибыли и рисков.\n",
    "5. Выбор и обоснование локации для скважины."
   ]
  },
  {
   "cell_type": "markdown",
   "id": "b25321fd-3f7d-4cd2-aa7e-952ca6ad2b21",
   "metadata": {},
   "source": [
    "## 1. Загрузка и исследование данных"
   ]
  },
  {
   "cell_type": "code",
   "execution_count": 1,
   "id": "b58bde41-b254-4f48-93f0-b1a18a34ecec",
   "metadata": {},
   "outputs": [],
   "source": [
    "import numpy as np\n",
    "import pandas as pd\n",
    "import seaborn as sns\n",
    "import matplotlib.pyplot as plt\n",
    "from sklearn.model_selection import train_test_split\n",
    "from sklearn.linear_model import LinearRegression\n",
    "from sklearn.metrics import mean_squared_error\n",
    "from scipy import stats as st\n",
    "\n",
    "plt.style.use('dark_background')"
   ]
  },
  {
   "cell_type": "code",
   "execution_count": 2,
   "id": "6371df7a-1904-4551-bf19-eafa031d1738",
   "metadata": {},
   "outputs": [],
   "source": [
    "try:\n",
    "    geo_data_0 = pd.read_csv('/datasets/geo_data_0.csv')\n",
    "    geo_data_1 = pd.read_csv('/datasets/geo_data_1.csv')\n",
    "    geo_data_2 = pd.read_csv('/datasets/geo_data_2.csv')\n",
    "except:\n",
    "    geo_data_0 = pd.read_csv(r'D:\\Учеба\\Data Scientist\\Проекты\\ML в бизнесе\\geo_data_0.csv')\n",
    "    geo_data_1 = pd.read_csv(r'D:\\Учеба\\Data Scientist\\Проекты\\ML в бизнесе\\geo_data_1.csv')\n",
    "    geo_data_2 = pd.read_csv(r'D:\\Учеба\\Data Scientist\\Проекты\\ML в бизнесе\\geo_data_2.csv')"
   ]
  },
  {
   "cell_type": "code",
   "execution_count": 3,
   "id": "d983d661-61dd-4fb7-82b8-6b20a26d0a64",
   "metadata": {},
   "outputs": [
    {
     "data": {
      "text/html": [
       "<div>\n",
       "<style scoped>\n",
       "    .dataframe tbody tr th:only-of-type {\n",
       "        vertical-align: middle;\n",
       "    }\n",
       "\n",
       "    .dataframe tbody tr th {\n",
       "        vertical-align: top;\n",
       "    }\n",
       "\n",
       "    .dataframe thead th {\n",
       "        text-align: right;\n",
       "    }\n",
       "</style>\n",
       "<table border=\"1\" class=\"dataframe\">\n",
       "  <thead>\n",
       "    <tr style=\"text-align: right;\">\n",
       "      <th></th>\n",
       "      <th>id</th>\n",
       "      <th>f0</th>\n",
       "      <th>f1</th>\n",
       "      <th>f2</th>\n",
       "      <th>product</th>\n",
       "    </tr>\n",
       "  </thead>\n",
       "  <tbody>\n",
       "    <tr>\n",
       "      <th>0</th>\n",
       "      <td>txEyH</td>\n",
       "      <td>0.705745</td>\n",
       "      <td>-0.497823</td>\n",
       "      <td>1.221170</td>\n",
       "      <td>105.280062</td>\n",
       "    </tr>\n",
       "    <tr>\n",
       "      <th>1</th>\n",
       "      <td>2acmU</td>\n",
       "      <td>1.334711</td>\n",
       "      <td>-0.340164</td>\n",
       "      <td>4.365080</td>\n",
       "      <td>73.037750</td>\n",
       "    </tr>\n",
       "    <tr>\n",
       "      <th>2</th>\n",
       "      <td>409Wp</td>\n",
       "      <td>1.022732</td>\n",
       "      <td>0.151990</td>\n",
       "      <td>1.419926</td>\n",
       "      <td>85.265647</td>\n",
       "    </tr>\n",
       "    <tr>\n",
       "      <th>3</th>\n",
       "      <td>iJLyR</td>\n",
       "      <td>-0.032172</td>\n",
       "      <td>0.139033</td>\n",
       "      <td>2.978566</td>\n",
       "      <td>168.620776</td>\n",
       "    </tr>\n",
       "    <tr>\n",
       "      <th>4</th>\n",
       "      <td>Xdl7t</td>\n",
       "      <td>1.988431</td>\n",
       "      <td>0.155413</td>\n",
       "      <td>4.751769</td>\n",
       "      <td>154.036647</td>\n",
       "    </tr>\n",
       "  </tbody>\n",
       "</table>\n",
       "</div>"
      ],
      "text/plain": [
       "      id        f0        f1        f2     product\n",
       "0  txEyH  0.705745 -0.497823  1.221170  105.280062\n",
       "1  2acmU  1.334711 -0.340164  4.365080   73.037750\n",
       "2  409Wp  1.022732  0.151990  1.419926   85.265647\n",
       "3  iJLyR -0.032172  0.139033  2.978566  168.620776\n",
       "4  Xdl7t  1.988431  0.155413  4.751769  154.036647"
      ]
     },
     "metadata": {},
     "output_type": "display_data"
    },
    {
     "data": {
      "text/html": [
       "<div>\n",
       "<style scoped>\n",
       "    .dataframe tbody tr th:only-of-type {\n",
       "        vertical-align: middle;\n",
       "    }\n",
       "\n",
       "    .dataframe tbody tr th {\n",
       "        vertical-align: top;\n",
       "    }\n",
       "\n",
       "    .dataframe thead th {\n",
       "        text-align: right;\n",
       "    }\n",
       "</style>\n",
       "<table border=\"1\" class=\"dataframe\">\n",
       "  <thead>\n",
       "    <tr style=\"text-align: right;\">\n",
       "      <th></th>\n",
       "      <th>id</th>\n",
       "      <th>f0</th>\n",
       "      <th>f1</th>\n",
       "      <th>f2</th>\n",
       "      <th>product</th>\n",
       "    </tr>\n",
       "  </thead>\n",
       "  <tbody>\n",
       "    <tr>\n",
       "      <th>0</th>\n",
       "      <td>kBEdx</td>\n",
       "      <td>-15.001348</td>\n",
       "      <td>-8.276000</td>\n",
       "      <td>-0.005876</td>\n",
       "      <td>3.179103</td>\n",
       "    </tr>\n",
       "    <tr>\n",
       "      <th>1</th>\n",
       "      <td>62mP7</td>\n",
       "      <td>14.272088</td>\n",
       "      <td>-3.475083</td>\n",
       "      <td>0.999183</td>\n",
       "      <td>26.953261</td>\n",
       "    </tr>\n",
       "    <tr>\n",
       "      <th>2</th>\n",
       "      <td>vyE1P</td>\n",
       "      <td>6.263187</td>\n",
       "      <td>-5.948386</td>\n",
       "      <td>5.001160</td>\n",
       "      <td>134.766305</td>\n",
       "    </tr>\n",
       "    <tr>\n",
       "      <th>3</th>\n",
       "      <td>KcrkZ</td>\n",
       "      <td>-13.081196</td>\n",
       "      <td>-11.506057</td>\n",
       "      <td>4.999415</td>\n",
       "      <td>137.945408</td>\n",
       "    </tr>\n",
       "    <tr>\n",
       "      <th>4</th>\n",
       "      <td>AHL4O</td>\n",
       "      <td>12.702195</td>\n",
       "      <td>-8.147433</td>\n",
       "      <td>5.004363</td>\n",
       "      <td>134.766305</td>\n",
       "    </tr>\n",
       "  </tbody>\n",
       "</table>\n",
       "</div>"
      ],
      "text/plain": [
       "      id         f0         f1        f2     product\n",
       "0  kBEdx -15.001348  -8.276000 -0.005876    3.179103\n",
       "1  62mP7  14.272088  -3.475083  0.999183   26.953261\n",
       "2  vyE1P   6.263187  -5.948386  5.001160  134.766305\n",
       "3  KcrkZ -13.081196 -11.506057  4.999415  137.945408\n",
       "4  AHL4O  12.702195  -8.147433  5.004363  134.766305"
      ]
     },
     "metadata": {},
     "output_type": "display_data"
    },
    {
     "data": {
      "text/html": [
       "<div>\n",
       "<style scoped>\n",
       "    .dataframe tbody tr th:only-of-type {\n",
       "        vertical-align: middle;\n",
       "    }\n",
       "\n",
       "    .dataframe tbody tr th {\n",
       "        vertical-align: top;\n",
       "    }\n",
       "\n",
       "    .dataframe thead th {\n",
       "        text-align: right;\n",
       "    }\n",
       "</style>\n",
       "<table border=\"1\" class=\"dataframe\">\n",
       "  <thead>\n",
       "    <tr style=\"text-align: right;\">\n",
       "      <th></th>\n",
       "      <th>id</th>\n",
       "      <th>f0</th>\n",
       "      <th>f1</th>\n",
       "      <th>f2</th>\n",
       "      <th>product</th>\n",
       "    </tr>\n",
       "  </thead>\n",
       "  <tbody>\n",
       "    <tr>\n",
       "      <th>0</th>\n",
       "      <td>fwXo0</td>\n",
       "      <td>-1.146987</td>\n",
       "      <td>0.963328</td>\n",
       "      <td>-0.828965</td>\n",
       "      <td>27.758673</td>\n",
       "    </tr>\n",
       "    <tr>\n",
       "      <th>1</th>\n",
       "      <td>WJtFt</td>\n",
       "      <td>0.262778</td>\n",
       "      <td>0.269839</td>\n",
       "      <td>-2.530187</td>\n",
       "      <td>56.069697</td>\n",
       "    </tr>\n",
       "    <tr>\n",
       "      <th>2</th>\n",
       "      <td>ovLUW</td>\n",
       "      <td>0.194587</td>\n",
       "      <td>0.289035</td>\n",
       "      <td>-5.586433</td>\n",
       "      <td>62.871910</td>\n",
       "    </tr>\n",
       "    <tr>\n",
       "      <th>3</th>\n",
       "      <td>q6cA6</td>\n",
       "      <td>2.236060</td>\n",
       "      <td>-0.553760</td>\n",
       "      <td>0.930038</td>\n",
       "      <td>114.572842</td>\n",
       "    </tr>\n",
       "    <tr>\n",
       "      <th>4</th>\n",
       "      <td>WPMUX</td>\n",
       "      <td>-0.515993</td>\n",
       "      <td>1.716266</td>\n",
       "      <td>5.899011</td>\n",
       "      <td>149.600746</td>\n",
       "    </tr>\n",
       "  </tbody>\n",
       "</table>\n",
       "</div>"
      ],
      "text/plain": [
       "      id        f0        f1        f2     product\n",
       "0  fwXo0 -1.146987  0.963328 -0.828965   27.758673\n",
       "1  WJtFt  0.262778  0.269839 -2.530187   56.069697\n",
       "2  ovLUW  0.194587  0.289035 -5.586433   62.871910\n",
       "3  q6cA6  2.236060 -0.553760  0.930038  114.572842\n",
       "4  WPMUX -0.515993  1.716266  5.899011  149.600746"
      ]
     },
     "metadata": {},
     "output_type": "display_data"
    }
   ],
   "source": [
    "display(geo_data_0.head())\n",
    "display(geo_data_1.head())\n",
    "display(geo_data_2.head())"
   ]
  },
  {
   "cell_type": "code",
   "execution_count": 4,
   "id": "541eed2d-3bb2-4bda-b948-6ec4e022742b",
   "metadata": {},
   "outputs": [
    {
     "name": "stdout",
     "output_type": "stream",
     "text": [
      "<class 'pandas.core.frame.DataFrame'>\n",
      "RangeIndex: 100000 entries, 0 to 99999\n",
      "Data columns (total 5 columns):\n",
      " #   Column   Non-Null Count   Dtype  \n",
      "---  ------   --------------   -----  \n",
      " 0   id       100000 non-null  object \n",
      " 1   f0       100000 non-null  float64\n",
      " 2   f1       100000 non-null  float64\n",
      " 3   f2       100000 non-null  float64\n",
      " 4   product  100000 non-null  float64\n",
      "dtypes: float64(4), object(1)\n",
      "memory usage: 3.8+ MB\n"
     ]
    },
    {
     "data": {
      "text/plain": [
       "None"
      ]
     },
     "metadata": {},
     "output_type": "display_data"
    },
    {
     "name": "stdout",
     "output_type": "stream",
     "text": [
      "<class 'pandas.core.frame.DataFrame'>\n",
      "RangeIndex: 100000 entries, 0 to 99999\n",
      "Data columns (total 5 columns):\n",
      " #   Column   Non-Null Count   Dtype  \n",
      "---  ------   --------------   -----  \n",
      " 0   id       100000 non-null  object \n",
      " 1   f0       100000 non-null  float64\n",
      " 2   f1       100000 non-null  float64\n",
      " 3   f2       100000 non-null  float64\n",
      " 4   product  100000 non-null  float64\n",
      "dtypes: float64(4), object(1)\n",
      "memory usage: 3.8+ MB\n"
     ]
    },
    {
     "data": {
      "text/plain": [
       "None"
      ]
     },
     "metadata": {},
     "output_type": "display_data"
    },
    {
     "name": "stdout",
     "output_type": "stream",
     "text": [
      "<class 'pandas.core.frame.DataFrame'>\n",
      "RangeIndex: 100000 entries, 0 to 99999\n",
      "Data columns (total 5 columns):\n",
      " #   Column   Non-Null Count   Dtype  \n",
      "---  ------   --------------   -----  \n",
      " 0   id       100000 non-null  object \n",
      " 1   f0       100000 non-null  float64\n",
      " 2   f1       100000 non-null  float64\n",
      " 3   f2       100000 non-null  float64\n",
      " 4   product  100000 non-null  float64\n",
      "dtypes: float64(4), object(1)\n",
      "memory usage: 3.8+ MB\n"
     ]
    },
    {
     "data": {
      "text/plain": [
       "None"
      ]
     },
     "metadata": {},
     "output_type": "display_data"
    }
   ],
   "source": [
    "display(geo_data_0.info())\n",
    "display(geo_data_1.info())\n",
    "display(geo_data_2.info())"
   ]
  },
  {
   "cell_type": "code",
   "execution_count": 5,
   "id": "1c30ac88-cf86-4bf9-b9d0-973050fcab87",
   "metadata": {},
   "outputs": [
    {
     "data": {
      "text/html": [
       "<div>\n",
       "<style scoped>\n",
       "    .dataframe tbody tr th:only-of-type {\n",
       "        vertical-align: middle;\n",
       "    }\n",
       "\n",
       "    .dataframe tbody tr th {\n",
       "        vertical-align: top;\n",
       "    }\n",
       "\n",
       "    .dataframe thead th {\n",
       "        text-align: right;\n",
       "    }\n",
       "</style>\n",
       "<table border=\"1\" class=\"dataframe\">\n",
       "  <thead>\n",
       "    <tr style=\"text-align: right;\">\n",
       "      <th></th>\n",
       "      <th>f0</th>\n",
       "      <th>f1</th>\n",
       "      <th>f2</th>\n",
       "      <th>product</th>\n",
       "    </tr>\n",
       "  </thead>\n",
       "  <tbody>\n",
       "    <tr>\n",
       "      <th>count</th>\n",
       "      <td>100000.000000</td>\n",
       "      <td>100000.000000</td>\n",
       "      <td>100000.000000</td>\n",
       "      <td>100000.000000</td>\n",
       "    </tr>\n",
       "    <tr>\n",
       "      <th>mean</th>\n",
       "      <td>0.500419</td>\n",
       "      <td>0.250143</td>\n",
       "      <td>2.502647</td>\n",
       "      <td>92.500000</td>\n",
       "    </tr>\n",
       "    <tr>\n",
       "      <th>std</th>\n",
       "      <td>0.871832</td>\n",
       "      <td>0.504433</td>\n",
       "      <td>3.248248</td>\n",
       "      <td>44.288691</td>\n",
       "    </tr>\n",
       "    <tr>\n",
       "      <th>min</th>\n",
       "      <td>-1.408605</td>\n",
       "      <td>-0.848218</td>\n",
       "      <td>-12.088328</td>\n",
       "      <td>0.000000</td>\n",
       "    </tr>\n",
       "    <tr>\n",
       "      <th>25%</th>\n",
       "      <td>-0.072580</td>\n",
       "      <td>-0.200881</td>\n",
       "      <td>0.287748</td>\n",
       "      <td>56.497507</td>\n",
       "    </tr>\n",
       "    <tr>\n",
       "      <th>50%</th>\n",
       "      <td>0.502360</td>\n",
       "      <td>0.250252</td>\n",
       "      <td>2.515969</td>\n",
       "      <td>91.849972</td>\n",
       "    </tr>\n",
       "    <tr>\n",
       "      <th>75%</th>\n",
       "      <td>1.073581</td>\n",
       "      <td>0.700646</td>\n",
       "      <td>4.715088</td>\n",
       "      <td>128.564089</td>\n",
       "    </tr>\n",
       "    <tr>\n",
       "      <th>max</th>\n",
       "      <td>2.362331</td>\n",
       "      <td>1.343769</td>\n",
       "      <td>16.003790</td>\n",
       "      <td>185.364347</td>\n",
       "    </tr>\n",
       "  </tbody>\n",
       "</table>\n",
       "</div>"
      ],
      "text/plain": [
       "                  f0             f1             f2        product\n",
       "count  100000.000000  100000.000000  100000.000000  100000.000000\n",
       "mean        0.500419       0.250143       2.502647      92.500000\n",
       "std         0.871832       0.504433       3.248248      44.288691\n",
       "min        -1.408605      -0.848218     -12.088328       0.000000\n",
       "25%        -0.072580      -0.200881       0.287748      56.497507\n",
       "50%         0.502360       0.250252       2.515969      91.849972\n",
       "75%         1.073581       0.700646       4.715088     128.564089\n",
       "max         2.362331       1.343769      16.003790     185.364347"
      ]
     },
     "metadata": {},
     "output_type": "display_data"
    },
    {
     "data": {
      "text/html": [
       "<div>\n",
       "<style scoped>\n",
       "    .dataframe tbody tr th:only-of-type {\n",
       "        vertical-align: middle;\n",
       "    }\n",
       "\n",
       "    .dataframe tbody tr th {\n",
       "        vertical-align: top;\n",
       "    }\n",
       "\n",
       "    .dataframe thead th {\n",
       "        text-align: right;\n",
       "    }\n",
       "</style>\n",
       "<table border=\"1\" class=\"dataframe\">\n",
       "  <thead>\n",
       "    <tr style=\"text-align: right;\">\n",
       "      <th></th>\n",
       "      <th>f0</th>\n",
       "      <th>f1</th>\n",
       "      <th>f2</th>\n",
       "      <th>product</th>\n",
       "    </tr>\n",
       "  </thead>\n",
       "  <tbody>\n",
       "    <tr>\n",
       "      <th>count</th>\n",
       "      <td>100000.000000</td>\n",
       "      <td>100000.000000</td>\n",
       "      <td>100000.000000</td>\n",
       "      <td>100000.000000</td>\n",
       "    </tr>\n",
       "    <tr>\n",
       "      <th>mean</th>\n",
       "      <td>1.141296</td>\n",
       "      <td>-4.796579</td>\n",
       "      <td>2.494541</td>\n",
       "      <td>68.825000</td>\n",
       "    </tr>\n",
       "    <tr>\n",
       "      <th>std</th>\n",
       "      <td>8.965932</td>\n",
       "      <td>5.119872</td>\n",
       "      <td>1.703572</td>\n",
       "      <td>45.944423</td>\n",
       "    </tr>\n",
       "    <tr>\n",
       "      <th>min</th>\n",
       "      <td>-31.609576</td>\n",
       "      <td>-26.358598</td>\n",
       "      <td>-0.018144</td>\n",
       "      <td>0.000000</td>\n",
       "    </tr>\n",
       "    <tr>\n",
       "      <th>25%</th>\n",
       "      <td>-6.298551</td>\n",
       "      <td>-8.267985</td>\n",
       "      <td>1.000021</td>\n",
       "      <td>26.953261</td>\n",
       "    </tr>\n",
       "    <tr>\n",
       "      <th>50%</th>\n",
       "      <td>1.153055</td>\n",
       "      <td>-4.813172</td>\n",
       "      <td>2.011479</td>\n",
       "      <td>57.085625</td>\n",
       "    </tr>\n",
       "    <tr>\n",
       "      <th>75%</th>\n",
       "      <td>8.621015</td>\n",
       "      <td>-1.332816</td>\n",
       "      <td>3.999904</td>\n",
       "      <td>107.813044</td>\n",
       "    </tr>\n",
       "    <tr>\n",
       "      <th>max</th>\n",
       "      <td>29.421755</td>\n",
       "      <td>18.734063</td>\n",
       "      <td>5.019721</td>\n",
       "      <td>137.945408</td>\n",
       "    </tr>\n",
       "  </tbody>\n",
       "</table>\n",
       "</div>"
      ],
      "text/plain": [
       "                  f0             f1             f2        product\n",
       "count  100000.000000  100000.000000  100000.000000  100000.000000\n",
       "mean        1.141296      -4.796579       2.494541      68.825000\n",
       "std         8.965932       5.119872       1.703572      45.944423\n",
       "min       -31.609576     -26.358598      -0.018144       0.000000\n",
       "25%        -6.298551      -8.267985       1.000021      26.953261\n",
       "50%         1.153055      -4.813172       2.011479      57.085625\n",
       "75%         8.621015      -1.332816       3.999904     107.813044\n",
       "max        29.421755      18.734063       5.019721     137.945408"
      ]
     },
     "metadata": {},
     "output_type": "display_data"
    },
    {
     "data": {
      "text/html": [
       "<div>\n",
       "<style scoped>\n",
       "    .dataframe tbody tr th:only-of-type {\n",
       "        vertical-align: middle;\n",
       "    }\n",
       "\n",
       "    .dataframe tbody tr th {\n",
       "        vertical-align: top;\n",
       "    }\n",
       "\n",
       "    .dataframe thead th {\n",
       "        text-align: right;\n",
       "    }\n",
       "</style>\n",
       "<table border=\"1\" class=\"dataframe\">\n",
       "  <thead>\n",
       "    <tr style=\"text-align: right;\">\n",
       "      <th></th>\n",
       "      <th>f0</th>\n",
       "      <th>f1</th>\n",
       "      <th>f2</th>\n",
       "      <th>product</th>\n",
       "    </tr>\n",
       "  </thead>\n",
       "  <tbody>\n",
       "    <tr>\n",
       "      <th>count</th>\n",
       "      <td>100000.000000</td>\n",
       "      <td>100000.000000</td>\n",
       "      <td>100000.000000</td>\n",
       "      <td>100000.000000</td>\n",
       "    </tr>\n",
       "    <tr>\n",
       "      <th>mean</th>\n",
       "      <td>0.002023</td>\n",
       "      <td>-0.002081</td>\n",
       "      <td>2.495128</td>\n",
       "      <td>95.000000</td>\n",
       "    </tr>\n",
       "    <tr>\n",
       "      <th>std</th>\n",
       "      <td>1.732045</td>\n",
       "      <td>1.730417</td>\n",
       "      <td>3.473445</td>\n",
       "      <td>44.749921</td>\n",
       "    </tr>\n",
       "    <tr>\n",
       "      <th>min</th>\n",
       "      <td>-8.760004</td>\n",
       "      <td>-7.084020</td>\n",
       "      <td>-11.970335</td>\n",
       "      <td>0.000000</td>\n",
       "    </tr>\n",
       "    <tr>\n",
       "      <th>25%</th>\n",
       "      <td>-1.162288</td>\n",
       "      <td>-1.174820</td>\n",
       "      <td>0.130359</td>\n",
       "      <td>59.450441</td>\n",
       "    </tr>\n",
       "    <tr>\n",
       "      <th>50%</th>\n",
       "      <td>0.009424</td>\n",
       "      <td>-0.009482</td>\n",
       "      <td>2.484236</td>\n",
       "      <td>94.925613</td>\n",
       "    </tr>\n",
       "    <tr>\n",
       "      <th>75%</th>\n",
       "      <td>1.158535</td>\n",
       "      <td>1.163678</td>\n",
       "      <td>4.858794</td>\n",
       "      <td>130.595027</td>\n",
       "    </tr>\n",
       "    <tr>\n",
       "      <th>max</th>\n",
       "      <td>7.238262</td>\n",
       "      <td>7.844801</td>\n",
       "      <td>16.739402</td>\n",
       "      <td>190.029838</td>\n",
       "    </tr>\n",
       "  </tbody>\n",
       "</table>\n",
       "</div>"
      ],
      "text/plain": [
       "                  f0             f1             f2        product\n",
       "count  100000.000000  100000.000000  100000.000000  100000.000000\n",
       "mean        0.002023      -0.002081       2.495128      95.000000\n",
       "std         1.732045       1.730417       3.473445      44.749921\n",
       "min        -8.760004      -7.084020     -11.970335       0.000000\n",
       "25%        -1.162288      -1.174820       0.130359      59.450441\n",
       "50%         0.009424      -0.009482       2.484236      94.925613\n",
       "75%         1.158535       1.163678       4.858794     130.595027\n",
       "max         7.238262       7.844801      16.739402     190.029838"
      ]
     },
     "metadata": {},
     "output_type": "display_data"
    }
   ],
   "source": [
    "display(geo_data_0.describe())\n",
    "display(geo_data_1.describe())\n",
    "display(geo_data_2.describe())"
   ]
  },
  {
   "cell_type": "code",
   "execution_count": 6,
   "id": "7acaf9cc-0f39-476f-9c9e-76f7511aabdf",
   "metadata": {},
   "outputs": [
    {
     "data": {
      "text/plain": [
       "array([[<AxesSubplot:title={'center':'f0'}>,\n",
       "        <AxesSubplot:title={'center':'f1'}>],\n",
       "       [<AxesSubplot:title={'center':'f2'}>,\n",
       "        <AxesSubplot:title={'center':'product'}>]], dtype=object)"
      ]
     },
     "execution_count": 6,
     "metadata": {},
     "output_type": "execute_result"
    },
    {
     "data": {
      "image/png": "[encoded data removed]",
      "text/plain": [
       "<Figure size 640x480 with 4 Axes>"
      ]
     },
     "metadata": {},
     "output_type": "display_data"
    }
   ],
   "source": [
    "geo_data_0.hist()"
   ]
  },
  {
   "cell_type": "code",
   "execution_count": 7,
   "id": "be28075e-2c5d-40b3-aa6a-c0986e3cbe92",
   "metadata": {},
   "outputs": [
    {
     "data": {
      "text/plain": [
       "array([[<AxesSubplot:title={'center':'f0'}>,\n",
       "        <AxesSubplot:title={'center':'f1'}>],\n",
       "       [<AxesSubplot:title={'center':'f2'}>,\n",
       "        <AxesSubplot:title={'center':'product'}>]], dtype=object)"
      ]
     },
     "execution_count": 7,
     "metadata": {},
     "output_type": "execute_result"
    },
    {
     "data": {
      "image/png": "[encoded data removed]",
      "text/plain": [
       "<Figure size 640x480 with 4 Axes>"
      ]
     },
     "metadata": {},
     "output_type": "display_data"
    }
   ],
   "source": [
    "geo_data_1.hist()"
   ]
  },
  {
   "cell_type": "code",
   "execution_count": 8,
   "id": "91d03c38-5c9c-4a09-a55e-35f9511006ea",
   "metadata": {},
   "outputs": [
    {
     "data": {
      "text/plain": [
       "array([[<AxesSubplot:title={'center':'f0'}>,\n",
       "        <AxesSubplot:title={'center':'f1'}>],\n",
       "       [<AxesSubplot:title={'center':'f2'}>,\n",
       "        <AxesSubplot:title={'center':'product'}>]], dtype=object)"
      ]
     },
     "execution_count": 8,
     "metadata": {},
     "output_type": "execute_result"
    },
    {
     "data": {
      "image/png": "[encoded data removed]",
      "text/plain": [
       "<Figure size 640x480 with 4 Axes>"
      ]
     },
     "metadata": {},
     "output_type": "display_data"
    }
   ],
   "source": [
    "geo_data_2.hist()"
   ]
  },
  {
   "cell_type": "code",
   "execution_count": 9,
   "id": "23fd83fa-ffca-4b1e-a43f-c2e2506c4c02",
   "metadata": {},
   "outputs": [
    {
     "data": {
      "text/html": [
       "<div>\n",
       "<style scoped>\n",
       "    .dataframe tbody tr th:only-of-type {\n",
       "        vertical-align: middle;\n",
       "    }\n",
       "\n",
       "    .dataframe tbody tr th {\n",
       "        vertical-align: top;\n",
       "    }\n",
       "\n",
       "    .dataframe thead th {\n",
       "        text-align: right;\n",
       "    }\n",
       "</style>\n",
       "<table border=\"1\" class=\"dataframe\">\n",
       "  <thead>\n",
       "    <tr style=\"text-align: right;\">\n",
       "      <th></th>\n",
       "      <th>f0</th>\n",
       "      <th>f1</th>\n",
       "      <th>f2</th>\n",
       "      <th>product</th>\n",
       "    </tr>\n",
       "  </thead>\n",
       "  <tbody>\n",
       "    <tr>\n",
       "      <th>f0</th>\n",
       "      <td>1.000000</td>\n",
       "      <td>-0.440723</td>\n",
       "      <td>-0.003153</td>\n",
       "      <td>0.143536</td>\n",
       "    </tr>\n",
       "    <tr>\n",
       "      <th>f1</th>\n",
       "      <td>-0.440723</td>\n",
       "      <td>1.000000</td>\n",
       "      <td>0.001724</td>\n",
       "      <td>-0.192356</td>\n",
       "    </tr>\n",
       "    <tr>\n",
       "      <th>f2</th>\n",
       "      <td>-0.003153</td>\n",
       "      <td>0.001724</td>\n",
       "      <td>1.000000</td>\n",
       "      <td>0.483663</td>\n",
       "    </tr>\n",
       "    <tr>\n",
       "      <th>product</th>\n",
       "      <td>0.143536</td>\n",
       "      <td>-0.192356</td>\n",
       "      <td>0.483663</td>\n",
       "      <td>1.000000</td>\n",
       "    </tr>\n",
       "  </tbody>\n",
       "</table>\n",
       "</div>"
      ],
      "text/plain": [
       "               f0        f1        f2   product\n",
       "f0       1.000000 -0.440723 -0.003153  0.143536\n",
       "f1      -0.440723  1.000000  0.001724 -0.192356\n",
       "f2      -0.003153  0.001724  1.000000  0.483663\n",
       "product  0.143536 -0.192356  0.483663  1.000000"
      ]
     },
     "metadata": {},
     "output_type": "display_data"
    },
    {
     "data": {
      "text/html": [
       "<div>\n",
       "<style scoped>\n",
       "    .dataframe tbody tr th:only-of-type {\n",
       "        vertical-align: middle;\n",
       "    }\n",
       "\n",
       "    .dataframe tbody tr th {\n",
       "        vertical-align: top;\n",
       "    }\n",
       "\n",
       "    .dataframe thead th {\n",
       "        text-align: right;\n",
       "    }\n",
       "</style>\n",
       "<table border=\"1\" class=\"dataframe\">\n",
       "  <thead>\n",
       "    <tr style=\"text-align: right;\">\n",
       "      <th></th>\n",
       "      <th>f0</th>\n",
       "      <th>f1</th>\n",
       "      <th>f2</th>\n",
       "      <th>product</th>\n",
       "    </tr>\n",
       "  </thead>\n",
       "  <tbody>\n",
       "    <tr>\n",
       "      <th>f0</th>\n",
       "      <td>1.000000</td>\n",
       "      <td>0.182287</td>\n",
       "      <td>-0.001777</td>\n",
       "      <td>-0.030491</td>\n",
       "    </tr>\n",
       "    <tr>\n",
       "      <th>f1</th>\n",
       "      <td>0.182287</td>\n",
       "      <td>1.000000</td>\n",
       "      <td>-0.002595</td>\n",
       "      <td>-0.010155</td>\n",
       "    </tr>\n",
       "    <tr>\n",
       "      <th>f2</th>\n",
       "      <td>-0.001777</td>\n",
       "      <td>-0.002595</td>\n",
       "      <td>1.000000</td>\n",
       "      <td>0.999397</td>\n",
       "    </tr>\n",
       "    <tr>\n",
       "      <th>product</th>\n",
       "      <td>-0.030491</td>\n",
       "      <td>-0.010155</td>\n",
       "      <td>0.999397</td>\n",
       "      <td>1.000000</td>\n",
       "    </tr>\n",
       "  </tbody>\n",
       "</table>\n",
       "</div>"
      ],
      "text/plain": [
       "               f0        f1        f2   product\n",
       "f0       1.000000  0.182287 -0.001777 -0.030491\n",
       "f1       0.182287  1.000000 -0.002595 -0.010155\n",
       "f2      -0.001777 -0.002595  1.000000  0.999397\n",
       "product -0.030491 -0.010155  0.999397  1.000000"
      ]
     },
     "metadata": {},
     "output_type": "display_data"
    },
    {
     "data": {
      "text/html": [
       "<div>\n",
       "<style scoped>\n",
       "    .dataframe tbody tr th:only-of-type {\n",
       "        vertical-align: middle;\n",
       "    }\n",
       "\n",
       "    .dataframe tbody tr th {\n",
       "        vertical-align: top;\n",
       "    }\n",
       "\n",
       "    .dataframe thead th {\n",
       "        text-align: right;\n",
       "    }\n",
       "</style>\n",
       "<table border=\"1\" class=\"dataframe\">\n",
       "  <thead>\n",
       "    <tr style=\"text-align: right;\">\n",
       "      <th></th>\n",
       "      <th>f0</th>\n",
       "      <th>f1</th>\n",
       "      <th>f2</th>\n",
       "      <th>product</th>\n",
       "    </tr>\n",
       "  </thead>\n",
       "  <tbody>\n",
       "    <tr>\n",
       "      <th>f0</th>\n",
       "      <td>1.000000</td>\n",
       "      <td>0.000528</td>\n",
       "      <td>-0.000448</td>\n",
       "      <td>-0.001987</td>\n",
       "    </tr>\n",
       "    <tr>\n",
       "      <th>f1</th>\n",
       "      <td>0.000528</td>\n",
       "      <td>1.000000</td>\n",
       "      <td>0.000779</td>\n",
       "      <td>-0.001012</td>\n",
       "    </tr>\n",
       "    <tr>\n",
       "      <th>f2</th>\n",
       "      <td>-0.000448</td>\n",
       "      <td>0.000779</td>\n",
       "      <td>1.000000</td>\n",
       "      <td>0.445871</td>\n",
       "    </tr>\n",
       "    <tr>\n",
       "      <th>product</th>\n",
       "      <td>-0.001987</td>\n",
       "      <td>-0.001012</td>\n",
       "      <td>0.445871</td>\n",
       "      <td>1.000000</td>\n",
       "    </tr>\n",
       "  </tbody>\n",
       "</table>\n",
       "</div>"
      ],
      "text/plain": [
       "               f0        f1        f2   product\n",
       "f0       1.000000  0.000528 -0.000448 -0.001987\n",
       "f1       0.000528  1.000000  0.000779 -0.001012\n",
       "f2      -0.000448  0.000779  1.000000  0.445871\n",
       "product -0.001987 -0.001012  0.445871  1.000000"
      ]
     },
     "metadata": {},
     "output_type": "display_data"
    }
   ],
   "source": [
    "display(geo_data_0.corr())\n",
    "display(geo_data_1.corr())\n",
    "display(geo_data_2.corr())"
   ]
  },
  {
   "cell_type": "code",
   "execution_count": 10,
   "id": "dd6d93c4-1f8d-451d-943a-cc3a4b10c5ea",
   "metadata": {},
   "outputs": [
    {
     "data": {
      "text/plain": [
       "0"
      ]
     },
     "metadata": {},
     "output_type": "display_data"
    },
    {
     "data": {
      "text/plain": [
       "0"
      ]
     },
     "metadata": {},
     "output_type": "display_data"
    },
    {
     "data": {
      "text/plain": [
       "0"
      ]
     },
     "metadata": {},
     "output_type": "display_data"
    }
   ],
   "source": [
    "display(geo_data_0.duplicated().sum())\n",
    "display(geo_data_1.duplicated().sum())\n",
    "display(geo_data_2.duplicated().sum())"
   ]
  },
  {
   "cell_type": "code",
   "execution_count": 11,
   "id": "312540bf-3408-4120-ba30-f23ff4ce084a",
   "metadata": {},
   "outputs": [
    {
     "data": {
      "text/plain": [
       "10"
      ]
     },
     "metadata": {},
     "output_type": "display_data"
    },
    {
     "data": {
      "text/plain": [
       "4"
      ]
     },
     "metadata": {},
     "output_type": "display_data"
    },
    {
     "data": {
      "text/plain": [
       "4"
      ]
     },
     "metadata": {},
     "output_type": "display_data"
    }
   ],
   "source": [
    "display(geo_data_0['id'].duplicated().sum())\n",
    "display(geo_data_1['id'].duplicated().sum())\n",
    "display(geo_data_2['id'].duplicated().sum())"
   ]
  },
  {
   "cell_type": "markdown",
   "id": "8b0d3047-4587-4d99-b310-614e05f24675",
   "metadata": {},
   "source": [
    "### Вывод\n",
    "В исходных данных отсутствуют пропуски, но есть дубликаты id. Требуется предобработка. Распределения параметров для разных регионов сильно отличаются. Целевой признак в 1 и 3 датасетах распределены нормально, во 2 датасете распределение отличается от нормального. Корреляции между оценочными признаками в данных не обнаружено. Есть корреляция между признаком f2 и целевым признаком, во втором датасете она равна единице. Будет решаться задача регрессии (обучение с учителем)."
   ]
  },
  {
   "cell_type": "markdown",
   "id": "7f524c1b-e9d3-4a62-b829-2bd8aae3f043",
   "metadata": {},
   "source": [
    "## 2. Устранение дубликатов\n",
    "В данных обнаружены дубликаты id. Признаков того, какая из строк дубликатов является корректной нет. Возможно, проводилась переоценка запасов, поэтому следует оставить последнее из значений."
   ]
  },
  {
   "cell_type": "code",
   "execution_count": 12,
   "id": "e1ef9dfe-cdd5-4a44-9237-10c701e98602",
   "metadata": {},
   "outputs": [
    {
     "data": {
      "text/plain": [
       "0"
      ]
     },
     "metadata": {},
     "output_type": "display_data"
    },
    {
     "data": {
      "text/plain": [
       "0"
      ]
     },
     "metadata": {},
     "output_type": "display_data"
    },
    {
     "data": {
      "text/plain": [
       "0"
      ]
     },
     "metadata": {},
     "output_type": "display_data"
    }
   ],
   "source": [
    "geo_data_0.drop_duplicates(subset=['id'], keep='last', inplace=True)\n",
    "geo_data_1.drop_duplicates(subset=['id'], keep='last', inplace=True)\n",
    "geo_data_2.drop_duplicates(subset=['id'], keep='last', inplace=True)\n",
    "\n",
    "display(geo_data_0['id'].duplicated().sum())\n",
    "display(geo_data_1['id'].duplicated().sum())\n",
    "display(geo_data_2['id'].duplicated().sum())"
   ]
  },
  {
   "cell_type": "markdown",
   "id": "09c0cda1-28b0-4ac5-9207-0a412b9230de",
   "metadata": {},
   "source": [
    "### Вывод\n",
    "Дубликаты в столбце с id устранены. Сохранено последнее для каждого дубликата"
   ]
  },
  {
   "cell_type": "markdown",
   "id": "a782a558-60a5-4cb5-a903-43b1f5f7514c",
   "metadata": {},
   "source": [
    "## 3. Построение и проверка моделей\n",
    "Напишем функцию для разбиения данных на тренировочную и тестовую выборки и тренировки модели линейной регрессии."
   ]
  },
  {
   "cell_type": "code",
   "execution_count": 13,
   "id": "b5676124-c9c0-4e35-9fac-252f8d7c353e",
   "metadata": {},
   "outputs": [],
   "source": [
    "def lr_model_training(data):\n",
    "    # делим выборку на features и target. \n",
    "    features = data.drop(['product', 'id'], axis=1)\n",
    "    target = data['product']\n",
    "    \n",
    "    # Разбиваем на тренировочную и тестовую выборки\n",
    "    X_train, X_test, y_train, y_test = train_test_split(features, target, \n",
    "                                                        train_size=0.75, random_state=10)\n",
    "    display(X_train.shape, X_test.shape, y_train.shape, y_test.shape)\n",
    "    \n",
    "    # тренируем модель линейной регрессии\n",
    "    model = LinearRegression()\n",
    "    model.fit(X_train, y_train)\n",
    "    predictions = model.predict(X_test)\n",
    "    print(f'Средние запасы по предсказаниям в регионе: {predictions.mean():.3}')\n",
    "    print(f'RMSE = {mean_squared_error(predictions, y_test) ** 0.5:.3}')\n",
    "    \n",
    "    # возвращаем целевые значения тестовой выборки и предсказания\n",
    "    return y_test, predictions"
   ]
  },
  {
   "cell_type": "markdown",
   "id": "dc8a3520-54bc-4a79-9803-e3d1bd416153",
   "metadata": {},
   "source": [
    "Вызовем функцию последовательно для всех трех регионов и сохраним реальные значения и предсказания в переменные"
   ]
  },
  {
   "cell_type": "code",
   "execution_count": 14,
   "id": "83ed3376-a9a9-4dbc-9d77-15ef2b483632",
   "metadata": {},
   "outputs": [
    {
     "data": {
      "text/plain": [
       "(74992, 3)"
      ]
     },
     "metadata": {},
     "output_type": "display_data"
    },
    {
     "data": {
      "text/plain": [
       "(24998, 3)"
      ]
     },
     "metadata": {},
     "output_type": "display_data"
    },
    {
     "data": {
      "text/plain": [
       "(74992,)"
      ]
     },
     "metadata": {},
     "output_type": "display_data"
    },
    {
     "data": {
      "text/plain": [
       "(24998,)"
      ]
     },
     "metadata": {},
     "output_type": "display_data"
    },
    {
     "name": "stdout",
     "output_type": "stream",
     "text": [
      "Средние запасы по предсказаниям в регионе: 92.5\n",
      "RMSE = 37.8\n"
     ]
    }
   ],
   "source": [
    "y_test_0, predictions_0 = lr_model_training(geo_data_0)"
   ]
  },
  {
   "cell_type": "code",
   "execution_count": 15,
   "id": "3ca1c4a3-f9b5-4d41-9c48-c3f67b524d9d",
   "metadata": {},
   "outputs": [
    {
     "data": {
      "text/plain": [
       "(74997, 3)"
      ]
     },
     "metadata": {},
     "output_type": "display_data"
    },
    {
     "data": {
      "text/plain": [
       "(24999, 3)"
      ]
     },
     "metadata": {},
     "output_type": "display_data"
    },
    {
     "data": {
      "text/plain": [
       "(74997,)"
      ]
     },
     "metadata": {},
     "output_type": "display_data"
    },
    {
     "data": {
      "text/plain": [
       "(24999,)"
      ]
     },
     "metadata": {},
     "output_type": "display_data"
    },
    {
     "name": "stdout",
     "output_type": "stream",
     "text": [
      "Средние запасы по предсказаниям в регионе: 68.7\n",
      "RMSE = 0.891\n"
     ]
    }
   ],
   "source": [
    "y_test_1, predictions_1 = lr_model_training(geo_data_1)"
   ]
  },
  {
   "cell_type": "code",
   "execution_count": 16,
   "id": "6c1e60af-df99-4bd6-9136-8fb057e18787",
   "metadata": {},
   "outputs": [
    {
     "data": {
      "text/plain": [
       "(74997, 3)"
      ]
     },
     "metadata": {},
     "output_type": "display_data"
    },
    {
     "data": {
      "text/plain": [
       "(24999, 3)"
      ]
     },
     "metadata": {},
     "output_type": "display_data"
    },
    {
     "data": {
      "text/plain": [
       "(74997,)"
      ]
     },
     "metadata": {},
     "output_type": "display_data"
    },
    {
     "data": {
      "text/plain": [
       "(24999,)"
      ]
     },
     "metadata": {},
     "output_type": "display_data"
    },
    {
     "name": "stdout",
     "output_type": "stream",
     "text": [
      "Средние запасы по предсказаниям в регионе: 95.2\n",
      "RMSE = 39.9\n"
     ]
    }
   ],
   "source": [
    "y_test_2, predictions_2 = lr_model_training(geo_data_2)"
   ]
  },
  {
   "cell_type": "markdown",
   "id": "9348f572-7331-4e56-8a22-c70fce02a254",
   "metadata": {},
   "source": [
    "### Вывод\n",
    "Самые высокие средние запасы модели предсказали в 3 и 1 регионах (порядка 90-95 тыс. барелей), но в них также высокая средняя ошибка предсказания (около 40 тыс. барелей). Во втором регионе запасы ниже (69 тыс. барелей) и ошибка предсказания низкая (около 1 тыс. барелей)."
   ]
  },
  {
   "cell_type": "markdown",
   "id": "a53ef21c-ef3d-4fd8-afb1-7968d472b11f",
   "metadata": {},
   "source": [
    "## 4. Расчет прибыли и рисков\n",
    "### 4.1. Расчет точки безубыточности\n",
    "Запишем предоставленные макропараметры в переменные"
   ]
  },
  {
   "cell_type": "code",
   "execution_count": 17,
   "id": "17bf7608-6007-4b32-b5e3-ed3c7155c3db",
   "metadata": {},
   "outputs": [],
   "source": [
    "# бюджет разработки месторождения\n",
    "BUDGET = 1e10\n",
    "# количество точек для разработки в одном регионе\n",
    "WELLS = 200\n",
    "# доход с 1 ед. в целевом признаке (1 тыс. барелей)\n",
    "MARGIN = 450e3"
   ]
  },
  {
   "cell_type": "markdown",
   "id": "f3db1db7-6e7b-4ccc-a124-d00fbae7e6af",
   "metadata": {},
   "source": [
    "Найдем запасы в точке безубыточности разработки скважины при текущих параметрах. Для этого разделим бюджет на маржинальный доход и количество разрабатываемых скважин"
   ]
  },
  {
   "cell_type": "code",
   "execution_count": 18,
   "id": "27245128-728b-484a-b113-b305309bc731",
   "metadata": {},
   "outputs": [
    {
     "name": "stdout",
     "output_type": "stream",
     "text": [
      "Требуемые запасы месторождения для безубыточной разработки: 111.11, тыс. барелей на скважину\n"
     ]
    }
   ],
   "source": [
    "volume = BUDGET / (MARGIN * WELLS)\n",
    "print(f'Требуемые запасы месторождения для безубыточной разработки: {volume:.5}, тыс. барелей на скважину')"
   ]
  },
  {
   "cell_type": "markdown",
   "id": "1b37417d-48c0-42c7-9f58-b8350ae6bf5d",
   "metadata": {},
   "source": [
    "#### Вывод\n",
    "Требуемые запасы в скважине для безубыточной разработки составляют 111 тыс. барелей. Это значение выше средних запасов в рассматриваемых регионах."
   ]
  },
  {
   "cell_type": "markdown",
   "id": "25a7646a-8eeb-4b75-9377-cdb8821649a5",
   "metadata": {},
   "source": [
    "### 4.2. Прибыль и риски убытков по регионам\n",
    "Напишем функцию, которая будет принимать на вход предсказания модели и возвращать прибыль для 200 скважин"
   ]
  },
  {
   "cell_type": "code",
   "execution_count": 19,
   "id": "2cb82947-b709-4bb9-a534-b308718e1a2a",
   "metadata": {
    "tags": []
   },
   "outputs": [],
   "source": [
    "def profit_calc(target, predict):\n",
    "    # сортируем предсказания\n",
    "    predict_sorted = predict.sort_values(ascending=False)\n",
    "    # берем соответствующие им по индексам реальные значения    \n",
    "    target_sorted = target[predict_sorted.index][:WELLS]\n",
    "    \n",
    "    product = target_sorted.sum()\n",
    "    return product * MARGIN - BUDGET  "
   ]
  },
  {
   "cell_type": "markdown",
   "id": "7655ffdf-7a1e-4784-8eef-2a32a3352f3f",
   "metadata": {},
   "source": [
    "Теперь напишем функцию бутстрепа, которая будет принимать на вход данные о предсказаниях, размер выборки и количество итераций. Функция будет брать из данных выборку (в нашем случае 500 элементов), применять функцию расчета прибыли и возвращать список результатов."
   ]
  },
  {
   "cell_type": "code",
   "execution_count": 20,
   "id": "dd4af6a2-cccf-46bb-936d-fbfb943c2c60",
   "metadata": {},
   "outputs": [],
   "source": [
    "def bootstrap(target, predictions, sample_size, iterations):\n",
    "    state = np.random.RandomState(10)\n",
    "    result = []\n",
    "    predictions = pd.Series(predictions, target.index)\n",
    "    \n",
    "    for _ in range(iterations):\n",
    "        # берем выборку из целевых значений\n",
    "        subsample_target = pd.Series(target).sample(n=sample_size, \n",
    "                                                         replace=True, random_state=state)\n",
    "        \n",
    "        subsample_target = pd.Series(subsample_target)\n",
    "        # берем выборку из предсказанных значений с такими же индексами\n",
    "        subsample_predict = predictions[subsample_target.index]\n",
    "        profit = profit_calc(subsample_target, subsample_predict)\n",
    "        result.append(profit)\n",
    "    result = pd.Series(result)\n",
    "    \n",
    "    # Печатаем среднее значение прибыли от разработки месторождений\n",
    "    print(f'Средняя прибыль равна:, {result.mean():.2E}')\n",
    "    # Ищем 95%-й доверительный интервал\n",
    "    print(f'95%-й доверительный интервал:, {result.quantile(0.025):.2E}, {result.quantile(0.975):.2E}')\n",
    "    # Считаем риск убытков\n",
    "    print(f'Риск убытков в регионе составляет: {(result < 0).mean():.2%}')\n",
    "    \n",
    "    return result"
   ]
  },
  {
   "cell_type": "markdown",
   "id": "394f3a5d-1816-4c3f-943f-1860520370d8",
   "metadata": {},
   "source": [
    "#### a. Первый регион"
   ]
  },
  {
   "cell_type": "markdown",
   "id": "727ac9cd-0f3a-4311-8445-a208da5b47f2",
   "metadata": {},
   "source": [
    "Применим функции для получения распределения прибыли по первому региону в соответствии с условиями"
   ]
  },
  {
   "cell_type": "code",
   "execution_count": 21,
   "id": "699735bd-7b22-4951-adbc-ffa022eded8e",
   "metadata": {},
   "outputs": [
    {
     "name": "stdout",
     "output_type": "stream",
     "text": [
      "Средняя прибыль равна:, 4.35E+08\n",
      "95%-й доверительный интервал:, -1.24E+08, 9.55E+08\n",
      "Риск убытков в регионе составляет: 5.40%\n"
     ]
    },
    {
     "data": {
      "image/png": "[encoded data removed]",
      "text/plain": [
       "<Figure size 1000x400 with 1 Axes>"
      ]
     },
     "metadata": {},
     "output_type": "display_data"
    }
   ],
   "source": [
    "geo_0 = bootstrap(y_test_0, predictions_0, sample_size=500, iterations=1000)\n",
    "geo_0 = pd.Series(geo_0)\n",
    "plt.figure(figsize=(10,4))\n",
    "ax = sns.kdeplot(data=geo_0, fill=True, color='blue')\n",
    "# Добавим вертикальную линию с суммой бюджета,\n",
    "# которая отражает точку безубыточности\n",
    "ax.axvline(0, ls='--', color='red')\n",
    "# Также добавим среднее распределения на график\n",
    "ax.axvline(geo_0.mean(), ls='--', color='green')\n",
    "ax.set_title('Распределение прибыли по первому региону')\n",
    "ax.set_xlabel('Прибыль, руб')\n",
    "ax.set_ylabel('Плотность вероятности')\n",
    "plt.show()"
   ]
  },
  {
   "cell_type": "markdown",
   "id": "d60387e3-bfc3-445f-9f66-959b7e635e7d",
   "metadata": {},
   "source": [
    "#### b. Второй регион"
   ]
  },
  {
   "cell_type": "markdown",
   "id": "5fe38212-5d95-4e86-b202-c3e3763fe294",
   "metadata": {},
   "source": [
    "Применим функции для получения распределения прибыли по второму региону в соответствии с условиями"
   ]
  },
  {
   "cell_type": "code",
   "execution_count": 22,
   "id": "9a6f58a7-8772-4601-8458-5cbf53c6f08f",
   "metadata": {},
   "outputs": [
    {
     "name": "stdout",
     "output_type": "stream",
     "text": [
      "Средняя прибыль равна:, 4.97E+08\n",
      "95%-й доверительный интервал:, 7.02E+07, 9.16E+08\n",
      "Риск убытков в регионе составляет: 1.00%\n"
     ]
    },
    {
     "data": {
      "image/png": "[encoded data removed]",
      "text/plain": [
       "<Figure size 1000x400 with 1 Axes>"
      ]
     },
     "metadata": {},
     "output_type": "display_data"
    }
   ],
   "source": [
    "geo_1 = bootstrap(y_test_1, predictions_1, sample_size=500, iterations=1000)\n",
    "geo_1 = pd.Series(geo_1)\n",
    "plt.figure(figsize=(10,4))\n",
    "ax = sns.kdeplot(data=geo_1, fill=True, color='blue')\n",
    "# Добавим вертикальную линию с суммой бюджета,\n",
    "# которая отражает точку безубыточности\n",
    "ax.axvline(0, ls='--', color='red')\n",
    "# Также добавим среднее распределения на график\n",
    "ax.axvline(geo_1.mean(), ls='--', color='green')\n",
    "ax.set_title('Распределение прибыли по второму региону')\n",
    "ax.set_xlabel('Прибыль, руб')\n",
    "ax.set_ylabel('Плотность вероятности')\n",
    "plt.show()"
   ]
  },
  {
   "cell_type": "markdown",
   "id": "b15809f2-d3ab-4df6-8151-ecb0b47f203e",
   "metadata": {},
   "source": [
    "#### c. Третий регион"
   ]
  },
  {
   "cell_type": "markdown",
   "id": "512ac386-0791-4f83-939e-fb2d8b799e55",
   "metadata": {},
   "source": [
    "Применим функции для получения распределения прибыли по третьему региону в соответствии с условиями"
   ]
  },
  {
   "cell_type": "code",
   "execution_count": 23,
   "id": "1ce8631f-f809-4a1a-914b-568909a0d46b",
   "metadata": {},
   "outputs": [
    {
     "name": "stdout",
     "output_type": "stream",
     "text": [
      "Средняя прибыль равна:, 4.01E+08\n",
      "95%-й доверительный интервал:, -1.36E+08, 9.86E+08\n",
      "Риск убытков в регионе составляет: 8.00%\n"
     ]
    },
    {
     "data": {
      "image/png": "[encoded data removed]",
      "text/plain": [
       "<Figure size 1000x400 with 1 Axes>"
      ]
     },
     "metadata": {},
     "output_type": "display_data"
    }
   ],
   "source": [
    "geo_2 = bootstrap(y_test_2, predictions_2, sample_size=500, iterations=1000)\n",
    "geo_2 = pd.Series(geo_2)\n",
    "plt.figure(figsize=(10,4))\n",
    "ax = sns.kdeplot(data=geo_2, fill=True, color='blue')\n",
    "# Добавим вертикальную линию с суммой бюджета,\n",
    "# которая отражает точку безубыточности\n",
    "ax.axvline(0, ls='--', color='red')\n",
    "# Также добавим среднее распределения на график\n",
    "ax.axvline(geo_2.mean(), ls='--', color='green')\n",
    "ax.set_title('Распределение прибыли по третьему региону')\n",
    "ax.set_xlabel('Прибыль, руб')\n",
    "ax.set_ylabel('Плотность вероятности')\n",
    "plt.show()"
   ]
  },
  {
   "cell_type": "markdown",
   "id": "9fab6e72-3f08-48b2-a575-32e15f550922",
   "metadata": {},
   "source": [
    "#### Вывод\n",
    "Расчет рисков и прибыли для трех регионов показал, что для первого региона средняя прибыль от разработки составляет 435 млн руб., а риск убытков - 5.4%, для второго - 497 млн руб. и 1.0% и для третьего - 401 млн руб. и 8.0% соответственно. В 1 и 3 регионах риск убытков превышает требуемый порог в 2.5%, поэтому они исключаются из рассмотрения."
   ]
  },
  {
   "cell_type": "markdown",
   "id": "f4bf09e6-b102-47e8-bc65-95341ae52acf",
   "metadata": {},
   "source": [
    "## Заключение\n",
    "В исследовании были изучены данные по трем регионам потенциальной разработки месторождений нефти. В исходных данных отсутствуют пропуски значений, но есть дубликаты в столбце id. Дубликаты удалены, сохранено последнее из значений. Распределения параметров значительно различаются по регионам. Для каждого региона была построена модель линейной регрессии на 75% данных и применена для предсказания целевого признака (запасов) на осташемся объеме данных. Самые высокие средние запасы модели предсказали в 3 и 1 регионах (порядка 90-95 тыс. барелей), но в них также высокая средняя ошибка предсказания (около 40 тыс. барелей). Во втором регионе запасы ниже (69 тыс. барелей) и ошибка предсказания низкая (около 1 тыс. барелей).\n",
    "\n",
    "Расчет точки безубыточности проекта показал, что при бюджете в 10 млрд руб. требуется, чтобы запасы скважины в среднем составляли 111 тыс. барелей. Расчет рисков и прибыли для трех регионов показал, что для первого региона средняя прибыль от разработки составляет 435 млн руб., а риск убытков - 5.4%, для второго - 497 млн руб. и 1.0% и для третьего - 401 млн руб. и 8.0% соответственно. В 1 и 3 регионах риск убытков превышает требуемый порог в 2.5%, поэтому они исключаются из рассмотрения.\n",
    "\n",
    "Таким образом, для разработки месторождений следует выбирать второй регион, т.к. он единственный соответствует требованиям по риску убытков и к тому же имеет самую высокую среднюю прибыль."
   ]
  }
 ],
 "metadata": {
  "ExecuteTimeLog": [
   {
    "duration": 2458,
    "start_time": "2023-05-13T20:34:30.539Z"
   },
   {
    "duration": 420,
    "start_time": "2023-05-13T20:34:33.000Z"
   },
   {
    "duration": 56,
    "start_time": "2023-05-13T20:34:33.423Z"
   },
   {
    "duration": 62,
    "start_time": "2023-05-13T20:34:33.482Z"
   },
   {
    "duration": 147,
    "start_time": "2023-05-13T20:34:33.546Z"
   },
   {
    "duration": 446,
    "start_time": "2023-05-13T20:34:33.695Z"
   },
   {
    "duration": 388,
    "start_time": "2023-05-13T20:34:34.143Z"
   },
   {
    "duration": 496,
    "start_time": "2023-05-13T20:34:34.533Z"
   },
   {
    "duration": 68,
    "start_time": "2023-05-13T20:34:35.031Z"
   },
   {
    "duration": 11,
    "start_time": "2023-05-13T20:34:35.103Z"
   },
   {
    "duration": 82,
    "start_time": "2023-05-13T20:34:35.116Z"
   },
   {
    "duration": 80,
    "start_time": "2023-05-13T20:34:35.200Z"
   },
   {
    "duration": 119,
    "start_time": "2023-05-13T20:34:35.282Z"
   },
   {
    "duration": 92,
    "start_time": "2023-05-13T20:34:35.403Z"
   },
   {
    "duration": 3,
    "start_time": "2023-05-13T20:34:35.497Z"
   },
   {
    "duration": 4,
    "start_time": "2023-05-13T20:34:35.502Z"
   },
   {
    "duration": 5,
    "start_time": "2023-05-13T20:34:35.508Z"
   },
   {
    "duration": 81,
    "start_time": "2023-05-13T20:34:35.516Z"
   },
   {
    "duration": 953,
    "start_time": "2023-05-13T20:34:35.604Z"
   },
   {
    "duration": 22,
    "start_time": "2023-05-13T20:34:36.559Z"
   },
   {
    "duration": 856,
    "start_time": "2023-05-13T20:34:36.589Z"
   },
   {
    "duration": 9,
    "start_time": "2023-05-13T20:34:37.448Z"
   },
   {
    "duration": 896,
    "start_time": "2023-05-13T20:34:37.459Z"
   },
   {
    "duration": 26,
    "start_time": "2023-05-13T20:34:38.357Z"
   },
   {
    "duration": 7,
    "start_time": "2023-05-13T20:35:21.539Z"
   },
   {
    "duration": 7,
    "start_time": "2023-05-13T20:35:50.742Z"
   },
   {
    "duration": 7,
    "start_time": "2023-05-13T20:42:44.699Z"
   }
  ],
  "kernelspec": {
   "display_name": "Python 3 (ipykernel)",
   "language": "python",
   "name": "python3"
  },
  "language_info": {
   "codemirror_mode": {
    "name": "ipython",
    "version": 3
   },
   "file_extension": ".py",
   "mimetype": "text/x-python",
   "name": "python",
   "nbconvert_exporter": "python",
   "pygments_lexer": "ipython3",
   "version": "3.9.13"
  },
  "toc": {
   "base_numbering": 1,
   "nav_menu": {},
   "number_sections": true,
   "sideBar": true,
   "skip_h1_title": true,
   "title_cell": "Table of Contents",
   "title_sidebar": "Contents",
   "toc_cell": false,
   "toc_position": {},
   "toc_section_display": true,
   "toc_window_display": true
  }
 },
 "nbformat": 4,
 "nbformat_minor": 5
}
